{
 "cells": [
  {
   "cell_type": "markdown",
   "metadata": {},
   "source": [
    "# 多层感知机的简洁实现\n",
    "\n",
    "下面我们使用Gluon来实现上一节中的多层感知机。首先导入所需的包或模块。"
   ]
  },
  {
   "cell_type": "code",
   "execution_count": 1,
   "metadata": {},
   "outputs": [],
   "source": [
    "import d2lzh as d2l\n",
    "from mxnet import gluon, init\n",
    "from mxnet.gluon import loss as gloss, nn"
   ]
  },
  {
   "cell_type": "markdown",
   "metadata": {},
   "source": [
    "## 定义模型\n",
    "\n",
    "和softmax回归唯一的不同在于，我们多加了一个全连接层作为隐藏层。它的隐藏单元个数为256，并使用ReLU函数作为激活函数。"
   ]
  },
  {
   "cell_type": "code",
   "execution_count": 6,
   "metadata": {
    "attributes": {
     "classes": [],
     "id": "",
     "n": "5"
    }
   },
   "outputs": [],
   "source": [
    "net = nn.Sequential()\n",
    "net.add(nn.Dense(256, activation='relu'),\n",
    "        nn.Dense(128))\n",
    "net.add(nn.Dense(128, activation='relu'), \n",
    "        nn.Dense(10))\n",
    "#net.add(nn.Dense(32, activation='relu'),\n",
    "#        nn.Dense(10))\n",
    "net.initialize(init.Normal(sigma=0.01))"
   ]
  },
  {
   "cell_type": "markdown",
   "metadata": {},
   "source": [
    "## 读取数据并训练模型\n",
    "\n",
    "我们使用与[“softmax回归的简洁实现”](softmax-regression-gluon.ipynb)一节中训练softmax回归几乎相同的步骤来读取数据并训练模型。"
   ]
  },
  {
   "cell_type": "code",
   "execution_count": 9,
   "metadata": {
    "attributes": {
     "classes": [],
     "id": "",
     "n": "6"
    }
   },
   "outputs": [
    {
     "name": "stdout",
     "output_type": "stream",
     "text": [
      "epoch 1, loss 0.3073, train acc 0.887, test acc 0.876\n",
      "epoch 2, loss 0.3026, train acc 0.889, test acc 0.878\n",
      "epoch 3, loss 0.2952, train acc 0.893, test acc 0.882\n",
      "epoch 4, loss 0.2941, train acc 0.892, test acc 0.879\n",
      "epoch 5, loss 0.4135, train acc 0.871, test acc 0.860\n",
      "epoch 6, loss 0.3357, train acc 0.878, test acc 0.876\n",
      "epoch 7, loss 0.3085, train acc 0.887, test acc 0.883\n",
      "epoch 8, loss 0.2966, train acc 0.893, test acc 0.883\n",
      "epoch 9, loss 0.2886, train acc 0.894, test acc 0.884\n",
      "epoch 10, loss 0.2819, train acc 0.897, test acc 0.881\n",
      "epoch 11, loss 0.2776, train acc 0.899, test acc 0.882\n",
      "epoch 12, loss 0.2693, train acc 0.901, test acc 0.882\n",
      "epoch 13, loss 0.2692, train acc 0.901, test acc 0.886\n",
      "epoch 14, loss 0.2634, train acc 0.903, test acc 0.888\n",
      "epoch 15, loss 0.2567, train acc 0.906, test acc 0.889\n",
      "epoch 16, loss 0.2556, train acc 0.905, test acc 0.885\n",
      "epoch 17, loss 0.2521, train acc 0.907, test acc 0.885\n",
      "epoch 18, loss 0.2479, train acc 0.909, test acc 0.885\n",
      "epoch 19, loss 0.2420, train acc 0.911, test acc 0.886\n",
      "epoch 20, loss 0.2399, train acc 0.912, test acc 0.890\n",
      "epoch 21, loss 0.2373, train acc 0.912, test acc 0.889\n",
      "epoch 22, loss 0.2340, train acc 0.914, test acc 0.883\n",
      "epoch 23, loss 0.2311, train acc 0.914, test acc 0.886\n",
      "epoch 24, loss 0.2276, train acc 0.916, test acc 0.885\n",
      "epoch 25, loss 0.2255, train acc 0.915, test acc 0.893\n",
      "epoch 26, loss 0.3849, train acc 0.890, test acc 0.869\n",
      "epoch 27, loss 0.2999, train acc 0.891, test acc 0.867\n",
      "epoch 28, loss 0.2682, train acc 0.900, test acc 0.878\n",
      "epoch 29, loss 0.2547, train acc 0.906, test acc 0.891\n",
      "epoch 30, loss 0.2463, train acc 0.910, test acc 0.887\n"
     ]
    }
   ],
   "source": [
    "batch_size = 256\n",
    "train_iter, test_iter = d2l.load_data_fashion_mnist(batch_size)\n",
    "\n",
    "loss = gloss.SoftmaxCrossEntropyLoss()\n",
    "trainer = gluon.Trainer(net.collect_params(), 'sgd', {'learning_rate': 0.1})\n",
    "num_epochs = 30\n",
    "d2l.train_ch3(net, train_iter, test_iter, loss, num_epochs, batch_size, None,\n",
    "              None, trainer)"
   ]
  },
  {
   "cell_type": "markdown",
   "metadata": {},
   "source": [
    "## 小结\n",
    "\n",
    "* 通过Gluon可以更简洁地实现多层感知机。\n",
    "\n",
    "## 练习\n",
    "\n",
    "* 尝试多加入几个隐藏层，对比上一节中从零开始的实现。\n",
    "* 使用其他的激活函数，看看对结果的影响。\n",
    "\n",
    "\n",
    "\n",
    "## 扫码直达[讨论区](https://discuss.gluon.ai/t/topic/738)\n",
    "\n",
    "![](../img/qr_mlp-gluon.svg)"
   ]
  }
 ],
 "metadata": {
  "kernelspec": {
   "display_name": "Python 3",
   "language": "python",
   "name": "python3"
  },
  "language_info": {
   "codemirror_mode": {
    "name": "ipython",
    "version": 3
   },
   "file_extension": ".py",
   "mimetype": "text/x-python",
   "name": "python",
   "nbconvert_exporter": "python",
   "pygments_lexer": "ipython3",
   "version": "3.6.10"
  }
 },
 "nbformat": 4,
 "nbformat_minor": 2
}
